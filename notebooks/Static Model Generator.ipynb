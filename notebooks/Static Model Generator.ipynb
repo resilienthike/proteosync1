{
 "cells": [
  {
   "cell_type": "code",
   "execution_count": 1,
   "id": "45f4fd03",
   "metadata": {},
   "outputs": [
    {
     "name": "stdout",
     "output_type": "stream",
     "text": [
      "proteosync 0.1.0\n",
      "REPO_ROOT=/Users/hike/code/proteosync1\n",
      "RAW_DIR=/Users/hike/code/proteosync1/artifacts/structures/raw\n",
      "STD_DIR=/Users/hike/code/proteosync1/artifacts/structures/std\n",
      "POCKETS_DIR=/Users/hike/code/proteosync1/artifacts/pockets\n",
      "{\n",
      "  \"project\": {\n",
      "    \"name\": \"proteosync\",\n",
      "    \"version\": \"0.1.0\"\n",
      "  },\n",
      "  \"paths\": {\n",
      "    \"artifacts\": \"artifacts\",\n",
      "    \"raw\": \"artifacts/structures/raw\",\n",
      "    \"std\": \"artifacts/structures/std\",\n",
      "    \"pockets\": \"artifacts/pockets\",\n",
      "    \"data\": \"/Users/hike/code/proteosync1/artifacts/data\"\n",
      "  },\n",
      "  \"run\": {\n",
      "    \"log_level\": \"INFO\"\n",
      "  }\n",
      "}\n"
     ]
    }
   ],
   "source": [
    "!python -m vsx.bench.cli version\n",
    "!python -m vsx.bench.cli paths\n",
    "!python -m vsx.bench.cli show-config\n",
    "\n",
    "\n"
   ]
  },
  {
   "cell_type": "code",
   "execution_count": 2,
   "id": "4b09f8cc",
   "metadata": {},
   "outputs": [
    {
     "name": "stdout",
     "output_type": "stream",
     "text": [
      "seed: /Users/hike/code/proteosync1/artifacts/data/GLP1R/seed_structure.cif | exists: True | size: 328980\n",
      "chain lengths: {'A': 463, 'B': 31}\n",
      "receptor: A | peptide candidates: ['B']\n"
     ]
    }
   ],
   "source": [
    "#Verify the seed & summarize chains\n",
    "from pathlib import Path\n",
    "from Bio.PDB import MMCIFParser, PDBParser, is_aa\n",
    "from vsx.utils.paths import DATA_DIR\n",
    "\n",
    "# auto-pick PDB vs CIF (you moved a CIF, so this should pick the CIF)\n",
    "pdb = Path(DATA_DIR/\"GLP1R\"/\"seed_structure.pdb\")\n",
    "cif = Path(DATA_DIR/\"GLP1R\"/\"seed_structure.cif\")\n",
    "p = pdb if pdb.exists() else cif\n",
    "\n",
    "print(\"seed:\", p, \"| exists:\", p.exists(), \"| size:\", p.stat().st_size if p.exists() else 0)\n",
    "assert p.exists(), \"Seed structure not found.\"\n",
    "\n",
    "# parse\n",
    "if p.suffix.lower() in {\".cif\", \".mmcif\"}:\n",
    "    s = MMCIFParser(QUIET=True).get_structure(\"GLP1R\", str(p))\n",
    "else:\n",
    "    s = PDBParser(QUIET=True).get_structure(\"GLP1R\", str(p))\n",
    "\n",
    "# chain lengths (AA residues only)\n",
    "chain_len = {}\n",
    "for m in s:\n",
    "    for ch in m:\n",
    "        chain_len[ch.id] = sum(1 for r in ch if is_aa(r, standard=False))\n",
    "\n",
    "print(\"chain lengths:\", chain_len)\n",
    "\n",
    "# choose receptor (longest chain) and peptide candidates (5–120 aa)\n",
    "receptor = max(chain_len, key=chain_len.get) if chain_len else None\n",
    "pep_candidates = [cid for cid,n in chain_len.items() if 5 <= n <= 120]\n",
    "print(\"receptor:\", receptor, \"| peptide candidates:\", pep_candidates)\n"
   ]
  },
  {
   "cell_type": "code",
   "execution_count": 3,
   "id": "22526f98",
   "metadata": {},
   "outputs": [
    {
     "name": "stdout",
     "output_type": "stream",
     "text": [
      "Using receptor: A | peptide: B\n",
      "wrote: /Users/hike/code/proteosync1/artifacts/pockets/GLP1R/peptide_interface.tsv | residues: 68\n"
     ]
    }
   ],
   "source": [
    "#Build peptide-interface pocket (safe: skips if no peptide)\n",
    "from Bio.PDB import Selection\n",
    "from vsx.utils.paths import POCKETS_DIR\n",
    "\n",
    "if not pep_candidates:\n",
    "    print(\"No peptide chain detected → skipping autopocket.\")\n",
    "else:\n",
    "    pep = min(pep_candidates, key=lambda c: chain_len[c])  # shortest peptide\n",
    "    print(\"Using receptor:\", receptor, \"| peptide:\", pep)\n",
    "\n",
    "    # helpers\n",
    "    def aa_atoms(chain):\n",
    "        for res in chain:\n",
    "            if is_aa(res, standard=False):\n",
    "                for atom in res.get_atoms():\n",
    "                    yield res, atom\n",
    "\n",
    "    model = next(iter(s))\n",
    "    receptor_chain = model[receptor]\n",
    "    peptide_chain  = model[pep]\n",
    "\n",
    "    cutoff = 6.0\n",
    "    pep_atoms = [a for _,a in aa_atoms(peptide_chain)]\n",
    "    pocket = set()\n",
    "    for res, atom in aa_atoms(receptor_chain):\n",
    "        ax,ay,az = atom.coord\n",
    "        for a2 in pep_atoms:\n",
    "            bx,by,bz = a2.coord\n",
    "            if (ax-bx)**2 + (ay-by)**2 + (az-bz)**2 <= cutoff**2:\n",
    "                ident = (receptor, int(res.id[1]), (res.id[2] or \"\").strip(), res.resname.strip())\n",
    "                pocket.add(ident)\n",
    "                break\n",
    "\n",
    "    out_dir = POCKETS_DIR/\"GLP1R\"\n",
    "    out_dir.mkdir(parents=True, exist_ok=True)\n",
    "    out_tsv = out_dir/\"peptide_interface.tsv\"\n",
    "    with out_tsv.open(\"w\") as f:\n",
    "        f.write(\"chain\\tresid\\ticode\\tresname\\n\")\n",
    "        for ch,resid,icode,rname in sorted(pocket, key=lambda x: (x[1], x[2])):\n",
    "            f.write(f\"{ch}\\t{resid}\\t{icode}\\t{rname}\\n\")\n",
    "    print(\"wrote:\", out_tsv, \"| residues:\", len(pocket))\n"
   ]
  },
  {
   "cell_type": "code",
   "execution_count": 5,
   "id": "052b5961",
   "metadata": {},
   "outputs": [
    {
     "name": "stdout",
     "output_type": "stream",
     "text": [
      "exists: True | path: /Users/hike/code/proteosync1/artifacts/pockets/GLP1R/peptide_interface.tsv\n",
      "chain\tresid\ticode\tresname\n",
      "A\t29\t\tTHR\n",
      "A\t30\t\tVAL\n",
      "A\t31\t\tSER\n",
      "A\t32\t\tLEU\n",
      "A\t33\t\tTRP\n",
      "A\t34\t\tGLU\n",
      "A\t35\t\tTHR\n",
      "A\t36\t\tVAL\n",
      "A\t39\t\tTRP\n",
      "A\t43\t\tARG\n",
      "A\t67\t\tASP\n",
      "A\t68\t\tGLU\n",
      "A\t69\t\tTYR\n",
      "A\t88\t\tTYR\n"
     ]
    }
   ],
   "source": [
    "#peek at the pocket file\n",
    "from pathlib import Path\n",
    "from vsx.utils.paths import POCKETS_DIR\n",
    "p = POCKETS_DIR/\"GLP1R\"/\"peptide_interface.tsv\"\n",
    "print(\"exists:\", p.exists(), \"| path:\", p)\n",
    "if p.exists():\n",
    "    print(\"\\n\".join(p.read_text().splitlines()[:15]))\n"
   ]
  }
 ],
 "metadata": {
  "kernelspec": {
   "display_name": "vsx",
   "language": "python",
   "name": "python3"
  },
  "language_info": {
   "codemirror_mode": {
    "name": "ipython",
    "version": 3
   },
   "file_extension": ".py",
   "mimetype": "text/x-python",
   "name": "python",
   "nbconvert_exporter": "python",
   "pygments_lexer": "ipython3",
   "version": "3.11.13"
  }
 },
 "nbformat": 4,
 "nbformat_minor": 5
}
