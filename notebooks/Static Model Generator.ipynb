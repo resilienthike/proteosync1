{
 "cells": [
  {
   "cell_type": "code",
   "execution_count": 1,
   "id": "45f4fd03",
   "metadata": {},
   "outputs": [
    {
     "name": "stdout",
     "output_type": "stream",
     "text": [
      "proteosync 0.1.0\n",
      "REPO_ROOT=/Users/hike/code/proteosync1\n",
      "RAW_DIR=/Users/hike/code/proteosync1/artifacts/structures/raw\n",
      "STD_DIR=/Users/hike/code/proteosync1/artifacts/structures/std\n",
      "POCKETS_DIR=/Users/hike/code/proteosync1/artifacts/pockets\n",
      "{\n",
      "  \"project\": {\n",
      "    \"name\": \"proteosync\",\n",
      "    \"version\": \"0.1.0\"\n",
      "  },\n",
      "  \"paths\": {\n",
      "    \"artifacts\": \"artifacts\",\n",
      "    \"raw\": \"artifacts/structures/raw\",\n",
      "    \"std\": \"artifacts/structures/std\",\n",
      "    \"pockets\": \"artifacts/pockets\",\n",
      "    \"data\": \"/Users/hike/code/proteosync1/artifacts/data\"\n",
      "  },\n",
      "  \"run\": {\n",
      "    \"log_level\": \"INFO\"\n",
      "  }\n",
      "}\n"
     ]
    }
   ],
   "source": [
    "!python -m vsx.bench.cli version\n",
    "!python -m vsx.bench.cli paths\n",
    "!python -m vsx.bench.cli show-config\n",
    "\n",
    "\n"
   ]
  },
  {
   "cell_type": "code",
   "execution_count": null,
   "id": "e34892c0",
   "metadata": {},
   "outputs": [
    {
     "name": "stdout",
     "output_type": "stream",
     "text": [
      "registry: /Users/hike/code/proteosync1/config/targets.yaml\n",
      "sequence length: 463\n",
      "request.json: /Users/hike/code/proteosync1/artifacts/data/GLP1R/request.json\n",
      "Place AF3 output at: /Users/hike/code/proteosync1/artifacts/data/GLP1R/seed_structure.pdb (or .cif)\n"
     ]
    }
   ],
   "source": [
    "# Ensure targets.yaml and proceed to make the AF3 request\n",
    "from pathlib import Path\n",
    "import json, yaml\n",
    "from vsx.utils.paths import REPO_ROOT, DATA_DIR\n",
    "from vsx.data.targets import load_targets, get_target, fetch_uniprot_fasta\n",
    "\n",
    "reg_path = REPO_ROOT / \"config\" / \"targets.yaml\"\n",
    "reg_path.parent.mkdir(parents=True, exist_ok=True)\n",
    "\n",
    "# 1) Ensure the registry exists and has GLP1R with a UniProt ID\n",
    "data = load_targets()\n",
    "if \"targets\" not in data:\n",
    "    data = {\"targets\": {}}\n",
    "glp1r = data[\"targets\"].get(\"GLP1R\", {})\n",
    "glp1r.setdefault(\"uniprot\", \"P43220\")   # default UniProt for GLP1R\n",
    "glp1r.setdefault(\"sequence\", \"\")        # leave empty -> auto-fetch from UniProt\n",
    "glp1r.setdefault(\"ligand_smiles\", \"\")\n",
    "data[\"targets\"][\"GLP1R\"] = glp1r\n",
    "reg_path.write_text(yaml.safe_dump(data, sort_keys=False))\n",
    "print(\"registry:\", reg_path)\n",
    "\n",
    "# 2) Load the target and get the sequence (fallback to UniProt if blank)\n",
    "meta = get_target(\"GLP1R\")\n",
    "seq = (meta.get(\"sequence\") or fetch_uniprot_fasta(meta[\"uniprot\"]))\n",
    "print(\"sequence length:\", len(seq))\n",
    "\n",
    "# 3) Write request.json and tell you where to put AF output\n",
    "out_dir = DATA_DIR / \"GLP1R\"\n",
    "out_dir.mkdir(parents=True, exist_ok=True)\n",
    "req = {\"job_name\": \"GLP1R_seed\", \"sequences\": [seq], \"ligand_smiles\": meta.get(\"ligand_smiles\") or None}\n",
    "(out_dir / \"request.json\").write_text(json.dumps(req, indent=2))\n",
    "\n",
    "print(\"request.json:\", out_dir / \"request.json\")\n",
    "print(\"Place AF3 output at:\", out_dir / \"seed_structure.pdb (or .cif)\")\n"
   ]
  },
  {
   "cell_type": "code",
   "execution_count": 4,
   "id": "63f7b971",
   "metadata": {},
   "outputs": [
    {
     "name": "stdout",
     "output_type": "stream",
     "text": [
      "exists: True size: 309936\n",
      "chains (aa counts): {'A': 300, 'B': 0, 'C': 0, 'D': 0, 'E': 0, 'F': 0, 'G': 0}\n",
      "receptor_chain: A\n",
      "peptide_candidates: ['B', 'C', 'D', 'E', 'F', 'G']\n"
     ]
    }
   ],
   "source": [
    "#Verify the structure & detect chains\n",
    "from pathlib import Path\n",
    "from Bio.PDB import MMCIFParser, is_aa\n",
    "from vsx.utils.paths import DATA_DIR\n",
    "\n",
    "p = Path(DATA_DIR/\"GLP1R\"/\"seed_structure.cif\")\n",
    "print(\"exists:\", p.exists(), \"size:\", p.stat().st_size if p.exists() else 0)\n",
    "assert p.exists(), \"seed_structure.cif not found where we expect it\"\n",
    "\n",
    "# parse & summarize chains\n",
    "s = MMCIFParser(QUIET=True).get_structure(\"GLP1R\", str(p))\n",
    "chain_lengths = {}\n",
    "for model in s:\n",
    "    for ch in model:\n",
    "        n = sum(1 for r in ch if is_aa(r, standard=False))\n",
    "        chain_lengths[ch.id] = chain_lengths.get(ch.id, 0) + n\n",
    "\n",
    "print(\"chains (aa counts):\", chain_lengths)\n",
    "\n",
    "# crude guess: longest = receptor, any chain <120 aa = peptide candidates\n",
    "if chain_lengths:\n",
    "    receptor_chain = max(chain_lengths, key=chain_lengths.get)\n",
    "    peptide_candidates = [cid for cid, n in chain_lengths.items() if n < 120]\n",
    "    print(\"receptor_chain:\", receptor_chain)\n",
    "    print(\"peptide_candidates:\", peptide_candidates)\n",
    "else:\n",
    "    print(\"No chains found?!\")\n"
   ]
  },
  {
   "cell_type": "code",
   "execution_count": 5,
   "id": "eb41b720",
   "metadata": {},
   "outputs": [
    {
     "name": "stdout",
     "output_type": "stream",
     "text": [
      "receptor: A len 300 | peptide: A len 300\n",
      "interface residues: 300\n",
      "wrote: /Users/hike/code/proteosync1/artifacts/pockets/GLP1R/peptide_interface.tsv\n"
     ]
    }
   ],
   "source": [
    "from pathlib import Path\n",
    "from math import inf\n",
    "from Bio.PDB import MMCIFParser, is_aa\n",
    "from vsx.utils.paths import DATA_DIR, POCKETS_DIR\n",
    "\n",
    "cif = Path(DATA_DIR/\"GLP1R\"/\"seed_structure.cif\")\n",
    "s = MMCIFParser(QUIET=True).get_structure(\"GLP1R\", str(cif))\n",
    "\n",
    "# count residues per chain\n",
    "chain_res_counts = {}\n",
    "for m in s:\n",
    "    for ch in m:\n",
    "        chain_res_counts[ch.id] = sum(1 for r in ch if is_aa(r, standard=False))\n",
    "\n",
    "# choose chains\n",
    "receptor = max(chain_res_counts, key=chain_res_counts.get)\n",
    "pep = min((cid for cid,n in chain_res_counts.items() if n>0), key=lambda c: chain_res_counts[c])\n",
    "\n",
    "print(\"receptor:\", receptor, \"len\", chain_res_counts[receptor], \"| peptide:\", pep, \"len\", chain_res_counts[pep])\n",
    "\n",
    "# collect atoms\n",
    "def aa_atoms(chain):\n",
    "    for res in chain:\n",
    "        if is_aa(res, standard=False):\n",
    "            for atom in res.get_atoms():\n",
    "                yield res, atom\n",
    "\n",
    "model = next(iter(s))  # first model\n",
    "receptor_chain = model[receptor]\n",
    "peptide_chain  = model[pep]\n",
    "\n",
    "# interface by distance threshold\n",
    "cutoff = 6.0\n",
    "contact_res = set()\n",
    "pep_atoms = [a for _,a in aa_atoms(peptide_chain)]\n",
    "for res, atom in aa_atoms(receptor_chain):\n",
    "    ax,ay,az = atom.coord\n",
    "    for a2 in pep_atoms:\n",
    "        bx,by,bz = a2.coord\n",
    "        d2 = (ax-bx)*(ax-bx) + (ay-by)*(ay-by) + (az-bz)*(az-bz)\n",
    "        if d2 <= cutoff*cutoff:\n",
    "            # use (chain, resseq, icode, resname)\n",
    "            idt = (receptor, int(res.id[1]), res.id[2].strip() or \"\", res.resname.strip())\n",
    "            contact_res.add(idt)\n",
    "            break\n",
    "\n",
    "contact_res = sorted(contact_res, key=lambda x: (x[1], x[2]))\n",
    "print(f\"interface residues: {len(contact_res)}\")\n",
    "\n",
    "# write pocket TSV\n",
    "out_dir = POCKETS_DIR / \"GLP1R\"\n",
    "out_dir.mkdir(parents=True, exist_ok=True)\n",
    "out_tsv = out_dir / \"peptide_interface.tsv\"\n",
    "with out_tsv.open(\"w\") as f:\n",
    "    f.write(\"chain\\tresid\\ticode\\tresname\\n\")\n",
    "    for ch, resid, icode, rname in contact_res:\n",
    "        f.write(f\"{ch}\\t{resid}\\t{icode}\\t{rname}\\n\")\n",
    "\n",
    "print(\"wrote:\", out_tsv)\n"
   ]
  }
 ],
 "metadata": {
  "kernelspec": {
   "display_name": "vsx",
   "language": "python",
   "name": "python3"
  },
  "language_info": {
   "codemirror_mode": {
    "name": "ipython",
    "version": 3
   },
   "file_extension": ".py",
   "mimetype": "text/x-python",
   "name": "python",
   "nbconvert_exporter": "python",
   "pygments_lexer": "ipython3",
   "version": "3.11.13"
  }
 },
 "nbformat": 4,
 "nbformat_minor": 5
}
